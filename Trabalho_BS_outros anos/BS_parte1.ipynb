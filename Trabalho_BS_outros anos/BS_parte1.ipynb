{
 "cells": [
  {
   "cell_type": "markdown",
   "metadata": {
    "collapsed": true,
    "pycharm": {
     "name": "#%% md\n"
    }
   },
   "source": [
    "**Exercise 1**\n",
    "\n",
    "What is the wild-type production of your group’s compound?"
   ]
  },
  {
   "cell_type": "code",
   "execution_count": 1,
   "metadata": {
    "pycharm": {
     "name": "#%%\n"
    }
   },
   "outputs": [
    {
     "name": "stdout",
     "output_type": "stream",
     "text": [
      "Objective\n",
      "=========\n",
      "1.0 BIOMASS_Ec_iML1515_core_75p37M = 0.8769972144269731\n",
      "\n",
      "Uptake\n",
      "------\n",
      "Metabolite      Reaction      Flux  C-Number   C-Flux\n",
      "     ca2_e      EX_ca2_e  0.004565         0    0.00%\n",
      "      cl_e       EX_cl_e  0.004565         0    0.00%\n",
      " cobalt2_e  EX_cobalt2_e 2.192E-05         0    0.00%\n",
      "     cu2_e      EX_cu2_e 0.0006218         0    0.00%\n",
      "     fe2_e      EX_fe2_e   0.01409         0    0.00%\n",
      "  glc__D_e   EX_glc__D_e        10         6  100.00%\n",
      "       k_e        EX_k_e    0.1712         0    0.00%\n",
      "     mg2_e      EX_mg2_e  0.007608         0    0.00%\n",
      "     mn2_e      EX_mn2_e  0.000606         0    0.00%\n",
      "    mobd_e     EX_mobd_e 6.139E-06         0    0.00%\n",
      "     nh4_e      EX_nh4_e     9.471         0    0.00%\n",
      "     ni2_e      EX_ni2_e 0.0002833         0    0.00%\n",
      "      o2_e       EX_o2_e     22.13         0    0.00%\n",
      "      pi_e       EX_pi_e     0.846         0    0.00%\n",
      "     so4_e      EX_so4_e    0.2208         0    0.00%\n",
      "     zn2_e      EX_zn2_e 0.0002991         0    0.00%\n",
      "\n",
      "Secretion\n",
      "---------\n",
      "Metabolite     Reaction       Flux  C-Number  C-Flux\n",
      "  4crsol_c  DM_4crsol_c -0.0001956         7   0.01%\n",
      "   5drib_c   DM_5drib_c -0.0001973         5   0.00%\n",
      "    amob_c    DM_amob_c -1.754E-06        15   0.00%\n",
      "     co2_e     EX_co2_e        -24         1  99.99%\n",
      "     h2o_e     EX_h2o_e     -47.16         0   0.00%\n",
      "       h_e       EX_h_e     -8.058         0   0.00%\n",
      "    meoh_e    EX_meoh_e -1.754E-06         1   0.00%\n",
      "\n",
      "objective: 0.26609812519117587\n",
      "Status: OPTIMAL\n",
      "L-Malate wild type flux:  0.0\n",
      "D-Malate wild type flux:  0.0\n"
     ]
    }
   ],
   "source": [
    "from cobra.io import read_sbml_model\n",
    "model = read_sbml_model('iML1515.xml')\n",
    "print(model.summary())\n",
    "\n",
    "envcond = {'EX_glc__D_e': (-15.0, 100000.0),\n",
    "           'EX_o2_e':(0,1000)}\n",
    "\n",
    "#EX_mal__L_e L-malate\n",
    "#EX_mal__D_e D-malate\n",
    "\n",
    "from mewpy.simulation import get_simulator\n",
    "simul = get_simulator(model, envcond=envcond)\n",
    "result = simul.simulate(method='FBA')\n",
    "print(result)\n",
    "print('L-Malate wild type flux: ', result.fluxes['EX_mal__L_e'])\n",
    "print('D-Malate wild type flux: ',result.fluxes['EX_mal__D_e'])"
   ]
  },
  {
   "cell_type": "markdown",
   "metadata": {
    "pycharm": {
     "name": "#%% md\n"
    }
   },
   "source": [
    "**Exercício 2**\n",
    "\n",
    "What are the maximum compound production capabilities?"
   ]
  },
  {
   "cell_type": "code",
   "execution_count": 7,
   "metadata": {
    "pycharm": {
     "name": "#%%\n"
    }
   },
   "outputs": [
    {
     "name": "stdout",
     "output_type": "stream",
     "text": [
      "Objective\n",
      "=========\n",
      "1.0 BIOMASS_Ec_iML1515_core_75p37M = 0.8769972144269693\n",
      "\n",
      "Uptake\n",
      "------\n",
      "Metabolite      Reaction      Flux  C-Number   C-Flux\n",
      "     ca2_e      EX_ca2_e  0.004565         0    0.00%\n",
      "      cl_e       EX_cl_e  0.004565         0    0.00%\n",
      " cobalt2_e  EX_cobalt2_e 2.192E-05         0    0.00%\n",
      "     cu2_e      EX_cu2_e 0.0006218         0    0.00%\n",
      "     fe2_e      EX_fe2_e   0.01409         0    0.00%\n",
      "  glc__D_e   EX_glc__D_e        10         6  100.00%\n",
      "       k_e        EX_k_e    0.1712         0    0.00%\n",
      "     mg2_e      EX_mg2_e  0.007608         0    0.00%\n",
      "     mn2_e      EX_mn2_e  0.000606         0    0.00%\n",
      "    mobd_e     EX_mobd_e 6.139E-06         0    0.00%\n",
      "     nh4_e      EX_nh4_e     9.471         0    0.00%\n",
      "     ni2_e      EX_ni2_e 0.0002833         0    0.00%\n",
      "      o2_e       EX_o2_e     22.13         0    0.00%\n",
      "      pi_e       EX_pi_e     0.846         0    0.00%\n",
      "     so4_e      EX_so4_e    0.2208         0    0.00%\n",
      "     zn2_e      EX_zn2_e 0.0002991         0    0.00%\n",
      "\n",
      "Secretion\n",
      "---------\n",
      "Metabolite     Reaction       Flux  C-Number  C-Flux\n",
      "  4crsol_c  DM_4crsol_c -0.0001956         7   0.01%\n",
      "   5drib_c   DM_5drib_c -0.0001973         5   0.00%\n",
      "    amob_c    DM_amob_c -1.754E-06        15   0.00%\n",
      "     co2_e     EX_co2_e        -24         1  99.99%\n",
      "     h2o_e     EX_h2o_e     -47.16         0   0.00%\n",
      "       h_e       EX_h_e     -8.058         0   0.00%\n",
      "    meoh_e    EX_meoh_e -1.754E-06         1   0.00%\n",
      "\n"
     ]
    },
    {
     "data": {
      "text/html": [
       "<div>\n",
       "<style scoped>\n",
       "    .dataframe tbody tr th:only-of-type {\n",
       "        vertical-align: middle;\n",
       "    }\n",
       "\n",
       "    .dataframe tbody tr th {\n",
       "        vertical-align: top;\n",
       "    }\n",
       "\n",
       "    .dataframe thead th {\n",
       "        text-align: right;\n",
       "    }\n",
       "</style>\n",
       "<table border=\"1\" class=\"dataframe\">\n",
       "  <thead>\n",
       "    <tr style=\"text-align: right;\">\n",
       "      <th></th>\n",
       "      <th>Reaction ID</th>\n",
       "      <th>Minimum</th>\n",
       "      <th>Maximum</th>\n",
       "    </tr>\n",
       "  </thead>\n",
       "  <tbody>\n",
       "    <tr>\n",
       "      <th>0</th>\n",
       "      <td>EX_mal__L_e</td>\n",
       "      <td>0.0</td>\n",
       "      <td>1.750872</td>\n",
       "    </tr>\n",
       "    <tr>\n",
       "      <th>1</th>\n",
       "      <td>EX_mal__D_e</td>\n",
       "      <td>0.0</td>\n",
       "      <td>0.000000</td>\n",
       "    </tr>\n",
       "  </tbody>\n",
       "</table>\n",
       "</div>"
      ],
      "text/plain": [
       "   Reaction ID  Minimum   Maximum\n",
       "0  EX_mal__L_e      0.0  1.750872\n",
       "1  EX_mal__D_e      0.0  0.000000"
      ]
     },
     "execution_count": 7,
     "metadata": {},
     "output_type": "execute_result"
    }
   ],
   "source": [
    "from cobra.io import read_sbml_model\n",
    "model = read_sbml_model('iML1515.xml')\n",
    "envcond = {'EX_glc__D_e': (-15.0, 100000.0),\n",
    "           'EX_o2_e':(0,1000)}\n",
    "\n",
    "from mewpy.simulation import get_simulator\n",
    "simul = get_simulator(model, envcond=envcond)\n",
    "\n",
    "simul.FVA(reactions=['EX_mal__L_e', 'EX_mal__D_e'],format='df')\n"
   ]
  },
  {
   "cell_type": "markdown",
   "metadata": {
    "pycharm": {
     "name": "#%% md\n"
    }
   },
   "source": [
    "**Exercício 3**\n",
    "\n",
    "Use different optimization objective functions to improve the production of the compound, considering that cells have evolved for maximum growth.\n",
    "\n",
    "*a)* Evaluate if single gene deletions enhance the production of the compound. Rank the mutants obtained according to the compound production capacity and growth performance."
   ]
  },
  {
   "cell_type": "code",
   "execution_count": 10,
   "metadata": {
    "pycharm": {
     "name": "#%%\n"
    }
   },
   "outputs": [
    {
     "name": "stderr",
     "output_type": "stream",
     "text": [
      "C:\\Anaconda3\\envs\\py37\\lib\\site-packages\\cobra\\util\\solver.py:508: UserWarning:\n",
      "\n",
      "Solver status is 'infeasible'.\n",
      "\n"
     ]
    },
    {
     "ename": "KeyboardInterrupt",
     "evalue": "",
     "output_type": "error",
     "traceback": [
      "\u001b[1;31m---------------------------------------------------------------------------\u001b[0m",
      "\u001b[1;31mKeyboardInterrupt\u001b[0m                         Traceback (most recent call last)",
      "\u001b[1;32m<ipython-input-10-d705250e08a3>\u001b[0m in \u001b[0;36m<module>\u001b[1;34m\u001b[0m\n\u001b[0;32m     22\u001b[0m \u001b[1;32mfrom\u001b[0m \u001b[0mmewpy\u001b[0m\u001b[1;33m.\u001b[0m\u001b[0moptimization\u001b[0m \u001b[1;32mimport\u001b[0m \u001b[0mEA\u001b[0m\u001b[1;33m\u001b[0m\u001b[1;33m\u001b[0m\u001b[0m\n\u001b[0;32m     23\u001b[0m \u001b[0mea\u001b[0m \u001b[1;33m=\u001b[0m \u001b[0mEA\u001b[0m\u001b[1;33m(\u001b[0m\u001b[0mproblem\u001b[0m\u001b[1;33m,\u001b[0m \u001b[0mmax_generations\u001b[0m\u001b[1;33m=\u001b[0m \u001b[1;36m100\u001b[0m\u001b[1;33m,\u001b[0m \u001b[0mvisualizer\u001b[0m\u001b[1;33m=\u001b[0m\u001b[1;32mTrue\u001b[0m\u001b[1;33m)\u001b[0m\u001b[1;33m\u001b[0m\u001b[1;33m\u001b[0m\u001b[0m\n\u001b[1;32m---> 24\u001b[1;33m \u001b[0mfinal_pop\u001b[0m \u001b[1;33m=\u001b[0m \u001b[0mea\u001b[0m\u001b[1;33m.\u001b[0m\u001b[0mrun\u001b[0m\u001b[1;33m(\u001b[0m\u001b[1;33m)\u001b[0m\u001b[1;33m\u001b[0m\u001b[1;33m\u001b[0m\u001b[0m\n\u001b[0m\u001b[0;32m     25\u001b[0m \u001b[1;33m\u001b[0m\u001b[0m\n\u001b[0;32m     26\u001b[0m \u001b[1;32mfrom\u001b[0m \u001b[0mmewpy\u001b[0m\u001b[1;33m.\u001b[0m\u001b[0mutils\u001b[0m\u001b[1;33m.\u001b[0m\u001b[0mconstants\u001b[0m \u001b[1;32mimport\u001b[0m \u001b[0mModelConstants\u001b[0m\u001b[1;33m\u001b[0m\u001b[1;33m\u001b[0m\u001b[0m\n",
      "\u001b[1;32mC:\\Anaconda3\\envs\\py37\\lib\\site-packages\\mewpy\\optimization\\ea.py\u001b[0m in \u001b[0;36mrun\u001b[1;34m(self)\u001b[0m\n\u001b[0;32m    107\u001b[0m \u001b[1;33m\u001b[0m\u001b[0m\n\u001b[0;32m    108\u001b[0m         \u001b[1;31m# builds the target list\u001b[0m\u001b[1;33m\u001b[0m\u001b[1;33m\u001b[0m\u001b[1;33m\u001b[0m\u001b[0m\n\u001b[1;32m--> 109\u001b[1;33m         \u001b[0mself\u001b[0m\u001b[1;33m.\u001b[0m\u001b[0mproblem\u001b[0m\u001b[1;33m.\u001b[0m\u001b[0mpre_process\u001b[0m\u001b[1;33m(\u001b[0m\u001b[1;33m)\u001b[0m\u001b[1;33m\u001b[0m\u001b[1;33m\u001b[0m\u001b[0m\n\u001b[0m\u001b[0;32m    110\u001b[0m \u001b[1;33m\u001b[0m\u001b[0m\n\u001b[0;32m    111\u001b[0m         \u001b[1;32mif\u001b[0m \u001b[0mself\u001b[0m\u001b[1;33m.\u001b[0m\u001b[0mproblem\u001b[0m\u001b[1;33m.\u001b[0m\u001b[0mnumber_of_objectives\u001b[0m \u001b[1;33m==\u001b[0m \u001b[1;36m1\u001b[0m\u001b[1;33m:\u001b[0m\u001b[1;33m\u001b[0m\u001b[1;33m\u001b[0m\u001b[0m\n",
      "\u001b[1;32mC:\\Anaconda3\\envs\\py37\\lib\\site-packages\\mewpy\\problems\\problem.py\u001b[0m in \u001b[0;36mpre_process\u001b[1;34m(self)\u001b[0m\n\u001b[0;32m    134\u001b[0m         \"\"\" Defines pre processing tasks\n\u001b[0;32m    135\u001b[0m         \"\"\"\n\u001b[1;32m--> 136\u001b[1;33m         \u001b[0mself\u001b[0m\u001b[1;33m.\u001b[0m\u001b[0mtarget_list\u001b[0m\u001b[1;33m\u001b[0m\u001b[1;33m\u001b[0m\u001b[0m\n\u001b[0m\u001b[0;32m    137\u001b[0m         \u001b[0mself\u001b[0m\u001b[1;33m.\u001b[0m\u001b[0mreset_simulator\u001b[0m\u001b[1;33m(\u001b[0m\u001b[1;33m)\u001b[0m\u001b[1;33m\u001b[0m\u001b[1;33m\u001b[0m\u001b[0m\n\u001b[0;32m    138\u001b[0m \u001b[1;33m\u001b[0m\u001b[0m\n",
      "\u001b[1;32mC:\\Anaconda3\\envs\\py37\\lib\\site-packages\\mewpy\\problems\\problem.py\u001b[0m in \u001b[0;36mtarget_list\u001b[1;34m(self)\u001b[0m\n\u001b[0;32m    162\u001b[0m         \u001b[1;34m\"list of modification targets\"\u001b[0m\u001b[1;33m\u001b[0m\u001b[1;33m\u001b[0m\u001b[0m\n\u001b[0;32m    163\u001b[0m         \u001b[1;32mif\u001b[0m \u001b[0mself\u001b[0m\u001b[1;33m.\u001b[0m\u001b[0m_trg_list\u001b[0m \u001b[1;32mis\u001b[0m \u001b[1;32mNone\u001b[0m\u001b[1;33m:\u001b[0m\u001b[1;33m\u001b[0m\u001b[1;33m\u001b[0m\u001b[0m\n\u001b[1;32m--> 164\u001b[1;33m             \u001b[0mself\u001b[0m\u001b[1;33m.\u001b[0m\u001b[0m_build_target_list\u001b[0m\u001b[1;33m(\u001b[0m\u001b[1;33m)\u001b[0m\u001b[1;33m\u001b[0m\u001b[1;33m\u001b[0m\u001b[0m\n\u001b[0m\u001b[0;32m    165\u001b[0m             \u001b[1;32mif\u001b[0m \u001b[1;32mnot\u001b[0m \u001b[0mself\u001b[0m\u001b[1;33m.\u001b[0m\u001b[0m_trg_list\u001b[0m\u001b[1;33m:\u001b[0m\u001b[1;33m\u001b[0m\u001b[1;33m\u001b[0m\u001b[0m\n\u001b[0;32m    166\u001b[0m                 \u001b[1;32mraise\u001b[0m \u001b[0mRuntimeError\u001b[0m\u001b[1;33m(\u001b[0m\u001b[1;34m\"Could not build target list.\"\u001b[0m\u001b[1;33m)\u001b[0m\u001b[1;33m\u001b[0m\u001b[1;33m\u001b[0m\u001b[0m\n",
      "\u001b[1;32mC:\\Anaconda3\\envs\\py37\\lib\\site-packages\\mewpy\\problems\\genes.py\u001b[0m in \u001b[0;36m_build_target_list\u001b[1;34m(self)\u001b[0m\n\u001b[0;32m     34\u001b[0m \u001b[1;33m\u001b[0m\u001b[0m\n\u001b[0;32m     35\u001b[0m         \u001b[0mgenes\u001b[0m \u001b[1;33m=\u001b[0m \u001b[0mset\u001b[0m\u001b[1;33m(\u001b[0m\u001b[0mself\u001b[0m\u001b[1;33m.\u001b[0m\u001b[0msimulator\u001b[0m\u001b[1;33m.\u001b[0m\u001b[0mgenes\u001b[0m\u001b[1;33m)\u001b[0m\u001b[1;33m\u001b[0m\u001b[1;33m\u001b[0m\u001b[0m\n\u001b[1;32m---> 36\u001b[1;33m         \u001b[0messential\u001b[0m \u001b[1;33m=\u001b[0m \u001b[0mset\u001b[0m\u001b[1;33m(\u001b[0m\u001b[0mself\u001b[0m\u001b[1;33m.\u001b[0m\u001b[0msimulator\u001b[0m\u001b[1;33m.\u001b[0m\u001b[0messential_genes\u001b[0m\u001b[1;33m)\u001b[0m\u001b[1;33m\u001b[0m\u001b[1;33m\u001b[0m\u001b[0m\n\u001b[0m\u001b[0;32m     37\u001b[0m         \u001b[0mtarget\u001b[0m \u001b[1;33m=\u001b[0m \u001b[0mgenes\u001b[0m \u001b[1;33m-\u001b[0m \u001b[0messential\u001b[0m\u001b[1;33m\u001b[0m\u001b[1;33m\u001b[0m\u001b[0m\n\u001b[0;32m     38\u001b[0m         \u001b[1;32mif\u001b[0m \u001b[0mself\u001b[0m\u001b[1;33m.\u001b[0m\u001b[0mnon_target\u001b[0m\u001b[1;33m:\u001b[0m\u001b[1;33m\u001b[0m\u001b[1;33m\u001b[0m\u001b[0m\n",
      "\u001b[1;32mC:\\Anaconda3\\envs\\py37\\lib\\site-packages\\mewpy\\simulation\\cobra.py\u001b[0m in \u001b[0;36messential_genes\u001b[1;34m(self, min_growth)\u001b[0m\n\u001b[0;32m    188\u001b[0m             \u001b[0minactive_reactions\u001b[0m \u001b[1;33m=\u001b[0m \u001b[0mset\u001b[0m\u001b[1;33m(\u001b[0m\u001b[0mself\u001b[0m\u001b[1;33m.\u001b[0m\u001b[0mreactions\u001b[0m\u001b[1;33m)\u001b[0m \u001b[1;33m-\u001b[0m \u001b[0mset\u001b[0m\u001b[1;33m(\u001b[0m\u001b[0mactive_reactions\u001b[0m\u001b[1;33m)\u001b[0m\u001b[1;33m\u001b[0m\u001b[1;33m\u001b[0m\u001b[0m\n\u001b[0;32m    189\u001b[0m             \u001b[0mgr_constraints\u001b[0m \u001b[1;33m=\u001b[0m \u001b[1;33m{\u001b[0m\u001b[0mrxn\u001b[0m\u001b[1;33m:\u001b[0m \u001b[1;36m0\u001b[0m \u001b[1;32mfor\u001b[0m \u001b[0mrxn\u001b[0m \u001b[1;32min\u001b[0m \u001b[0minactive_reactions\u001b[0m\u001b[1;33m}\u001b[0m\u001b[1;33m\u001b[0m\u001b[1;33m\u001b[0m\u001b[0m\n\u001b[1;32m--> 190\u001b[1;33m             \u001b[0mres\u001b[0m \u001b[1;33m=\u001b[0m \u001b[0mself\u001b[0m\u001b[1;33m.\u001b[0m\u001b[0msimulate\u001b[0m\u001b[1;33m(\u001b[0m\u001b[0mconstraints\u001b[0m\u001b[1;33m=\u001b[0m\u001b[0mgr_constraints\u001b[0m\u001b[1;33m)\u001b[0m\u001b[1;33m\u001b[0m\u001b[1;33m\u001b[0m\u001b[0m\n\u001b[0m\u001b[0;32m    191\u001b[0m             \u001b[1;32mif\u001b[0m \u001b[0mres\u001b[0m\u001b[1;33m:\u001b[0m\u001b[1;33m\u001b[0m\u001b[1;33m\u001b[0m\u001b[0m\n\u001b[0;32m    192\u001b[0m                 \u001b[1;32mif\u001b[0m \u001b[1;33m(\u001b[0m\u001b[0mres\u001b[0m\u001b[1;33m.\u001b[0m\u001b[0mstatus\u001b[0m \u001b[1;33m==\u001b[0m \u001b[0mSStatus\u001b[0m\u001b[1;33m.\u001b[0m\u001b[0mOPTIMAL\u001b[0m \u001b[1;32mand\u001b[0m \u001b[0mres\u001b[0m\u001b[1;33m.\u001b[0m\u001b[0mobjective_value\u001b[0m \u001b[1;33m<\u001b[0m \u001b[0mwt_growth\u001b[0m \u001b[1;33m*\u001b[0m \u001b[0mmin_growth\u001b[0m\u001b[1;33m)\u001b[0m\u001b[0;31m \u001b[0m\u001b[0;31m\\\u001b[0m\u001b[1;33m\u001b[0m\u001b[1;33m\u001b[0m\u001b[0m\n",
      "\u001b[1;32mC:\\Anaconda3\\envs\\py37\\lib\\site-packages\\mewpy\\simulation\\cobra.py\u001b[0m in \u001b[0;36msimulate\u001b[1;34m(self, objective, method, maximize, constraints, reference, scalefactor)\u001b[0m\n\u001b[0;32m    462\u001b[0m             \u001b[0mobjective_sense\u001b[0m \u001b[1;33m=\u001b[0m \u001b[1;34m'maximize'\u001b[0m \u001b[1;32mif\u001b[0m \u001b[0mmaximize\u001b[0m \u001b[1;32melse\u001b[0m \u001b[1;34m'minimize'\u001b[0m\u001b[1;33m\u001b[0m\u001b[1;33m\u001b[0m\u001b[0m\n\u001b[0;32m    463\u001b[0m             \u001b[1;32mif\u001b[0m \u001b[0mmethod\u001b[0m \u001b[1;33m==\u001b[0m \u001b[0mSimulationMethod\u001b[0m\u001b[1;33m.\u001b[0m\u001b[0mFBA\u001b[0m\u001b[1;33m:\u001b[0m\u001b[1;33m\u001b[0m\u001b[1;33m\u001b[0m\u001b[0m\n\u001b[1;32m--> 464\u001b[1;33m                 \u001b[0msolution\u001b[0m \u001b[1;33m=\u001b[0m \u001b[0mmodel\u001b[0m\u001b[1;33m.\u001b[0m\u001b[0moptimize\u001b[0m\u001b[1;33m(\u001b[0m\u001b[0mobjective_sense\u001b[0m\u001b[1;33m=\u001b[0m\u001b[0mobjective_sense\u001b[0m\u001b[1;33m)\u001b[0m\u001b[1;33m\u001b[0m\u001b[1;33m\u001b[0m\u001b[0m\n\u001b[0m\u001b[0;32m    465\u001b[0m             \u001b[1;32melif\u001b[0m \u001b[0mmethod\u001b[0m \u001b[1;33m==\u001b[0m \u001b[0mSimulationMethod\u001b[0m\u001b[1;33m.\u001b[0m\u001b[0mpFBA\u001b[0m\u001b[1;33m:\u001b[0m\u001b[1;33m\u001b[0m\u001b[1;33m\u001b[0m\u001b[0m\n\u001b[0;32m    466\u001b[0m                 \u001b[1;31m# make fraction_of_optimum a configurable parameter?\u001b[0m\u001b[1;33m\u001b[0m\u001b[1;33m\u001b[0m\u001b[1;33m\u001b[0m\u001b[0m\n",
      "\u001b[1;32mC:\\Anaconda3\\envs\\py37\\lib\\site-packages\\cobra\\core\\model.py\u001b[0m in \u001b[0;36moptimize\u001b[1;34m(self, objective_sense, raise_error)\u001b[0m\n\u001b[0;32m   1107\u001b[0m         )\n\u001b[0;32m   1108\u001b[0m         \u001b[0mself\u001b[0m\u001b[1;33m.\u001b[0m\u001b[0mslim_optimize\u001b[0m\u001b[1;33m(\u001b[0m\u001b[1;33m)\u001b[0m\u001b[1;33m\u001b[0m\u001b[1;33m\u001b[0m\u001b[0m\n\u001b[1;32m-> 1109\u001b[1;33m         \u001b[0msolution\u001b[0m \u001b[1;33m=\u001b[0m \u001b[0mget_solution\u001b[0m\u001b[1;33m(\u001b[0m\u001b[0mself\u001b[0m\u001b[1;33m,\u001b[0m \u001b[0mraise_error\u001b[0m\u001b[1;33m=\u001b[0m\u001b[0mraise_error\u001b[0m\u001b[1;33m)\u001b[0m\u001b[1;33m\u001b[0m\u001b[1;33m\u001b[0m\u001b[0m\n\u001b[0m\u001b[0;32m   1110\u001b[0m         \u001b[0mself\u001b[0m\u001b[1;33m.\u001b[0m\u001b[0mobjective\u001b[0m\u001b[1;33m.\u001b[0m\u001b[0mdirection\u001b[0m \u001b[1;33m=\u001b[0m \u001b[0moriginal_direction\u001b[0m\u001b[1;33m\u001b[0m\u001b[1;33m\u001b[0m\u001b[0m\n\u001b[0;32m   1111\u001b[0m         \u001b[1;32mreturn\u001b[0m \u001b[0msolution\u001b[0m\u001b[1;33m\u001b[0m\u001b[1;33m\u001b[0m\u001b[0m\n",
      "\u001b[1;32mC:\\Anaconda3\\envs\\py37\\lib\\site-packages\\cobra\\core\\solution.py\u001b[0m in \u001b[0;36mget_solution\u001b[1;34m(model, reactions, metabolites, raise_error)\u001b[0m\n\u001b[0;32m    259\u001b[0m             \u001b[0mrxn_index\u001b[0m\u001b[1;33m.\u001b[0m\u001b[0mappend\u001b[0m\u001b[1;33m(\u001b[0m\u001b[0mforward\u001b[0m\u001b[1;33m)\u001b[0m\u001b[1;33m\u001b[0m\u001b[1;33m\u001b[0m\u001b[0m\n\u001b[0;32m    260\u001b[0m             \u001b[0mfluxes\u001b[0m\u001b[1;33m[\u001b[0m\u001b[0mi\u001b[0m\u001b[1;33m]\u001b[0m \u001b[1;33m=\u001b[0m \u001b[0mvar_primals\u001b[0m\u001b[1;33m[\u001b[0m\u001b[0mforward\u001b[0m\u001b[1;33m]\u001b[0m \u001b[1;33m-\u001b[0m \u001b[0mvar_primals\u001b[0m\u001b[1;33m[\u001b[0m\u001b[0mreverse\u001b[0m\u001b[1;33m]\u001b[0m\u001b[1;33m\u001b[0m\u001b[1;33m\u001b[0m\u001b[0m\n\u001b[1;32m--> 261\u001b[1;33m             \u001b[0mreduced\u001b[0m\u001b[1;33m[\u001b[0m\u001b[0mi\u001b[0m\u001b[1;33m]\u001b[0m \u001b[1;33m=\u001b[0m \u001b[0mvar_duals\u001b[0m\u001b[1;33m[\u001b[0m\u001b[0mforward\u001b[0m\u001b[1;33m]\u001b[0m \u001b[1;33m-\u001b[0m \u001b[0mvar_duals\u001b[0m\u001b[1;33m[\u001b[0m\u001b[0mreverse\u001b[0m\u001b[1;33m]\u001b[0m\u001b[1;33m\u001b[0m\u001b[1;33m\u001b[0m\u001b[0m\n\u001b[0m\u001b[0;32m    262\u001b[0m         \u001b[0mmet_index\u001b[0m \u001b[1;33m=\u001b[0m \u001b[0mlist\u001b[0m\u001b[1;33m(\u001b[0m\u001b[1;33m)\u001b[0m\u001b[1;33m\u001b[0m\u001b[1;33m\u001b[0m\u001b[0m\n\u001b[0;32m    263\u001b[0m         \u001b[0mconstr_duals\u001b[0m \u001b[1;33m=\u001b[0m \u001b[0mmodel\u001b[0m\u001b[1;33m.\u001b[0m\u001b[0msolver\u001b[0m\u001b[1;33m.\u001b[0m\u001b[0mshadow_prices\u001b[0m\u001b[1;33m\u001b[0m\u001b[1;33m\u001b[0m\u001b[0m\n",
      "\u001b[1;31mKeyboardInterrupt\u001b[0m: "
     ]
    }
   ],
   "source": [
    "from cobra.io import read_sbml_model\n",
    "model = read_sbml_model('iML1515.xml')\n",
    "envcond = {'EX_glc__D_e': (-15.0, 100000.0),\n",
    "           'EX_o2_e':(0,1000)}\n",
    "from mewpy.simulation import get_simulator\n",
    "simul = get_simulator(model, envcond=envcond)\n",
    "\n",
    "# Define the target\n",
    "PRODUCT_ID = 'EX_mal__L_e'\n",
    "BIOMASS_ID = 'BIOMASS_Ec_iML1515_core_75p37M'\n",
    "\n",
    "#Optimization objectives\n",
    "from mewpy.optimization.evaluation import  BPCY, MinCandSize, AggregatedSum, TargetFlux\n",
    "f1 = BPCY(BIOMASS_ID, PRODUCT_ID, method='pFBA')\n",
    "f2 = MinCandSize()\n",
    "fevaluation = AggregatedSum([f1,f2])\n",
    "fevaluation1 = TargetFlux(PRODUCT_ID)\n",
    "\n",
    "from mewpy.problems import GKOProblem\n",
    "problem = GKOProblem(model, fevaluation = [fevaluation, fevaluation1], envcond=envcond)\n",
    "\n",
    "from mewpy.optimization import EA\n",
    "ea = EA(problem, max_generations= 100, visualizer=True)\n",
    "final_pop = ea.run()\n",
    "\n",
    "from mewpy.utils.constants import ModelConstants\n",
    "ModelConstants.RESET_SOLVER = True\n",
    "\n",
    "\n"
   ]
  }
 ],
 "metadata": {
  "kernelspec": {
   "display_name": "Python 3 (ipykernel)",
   "language": "python",
   "name": "python3"
  },
  "language_info": {
   "codemirror_mode": {
    "name": "ipython",
    "version": 3
   },
   "file_extension": ".py",
   "mimetype": "text/x-python",
   "name": "python",
   "nbconvert_exporter": "python",
   "pygments_lexer": "ipython3",
   "version": "3.9.12"
  }
 },
 "nbformat": 4,
 "nbformat_minor": 1
}
