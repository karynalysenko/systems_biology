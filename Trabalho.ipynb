{
 "cells": [
  {
   "cell_type": "markdown",
   "id": "34f62776",
   "metadata": {},
   "source": [
    "# Report \n",
    "Group 5 - Product in consideration Diacetyl (mmol/gDW/h)\\\n",
    "Guilherme Lobo\\\n",
    "Karyna Lysenko\\\n",
    "Rodrigo Esperança\n",
    "\n",
    "Biologia de Sistemas - Universidade do Minho\\\n",
    "dezembro de 2022"
   ]
  },
  {
   "cell_type": "markdown",
   "id": "195ce7fc",
   "metadata": {},
   "source": [
    "### Documentação (apagar depois)\n",
    "https://cobrapy.readthedocs.io/en/latest/"
   ]
  },
  {
   "cell_type": "code",
   "execution_count": 12,
   "id": "dfc8c7b0",
   "metadata": {},
   "outputs": [],
   "source": [
    "import cobra\n",
    "from cobra.io import read_sbml_model\n",
    "from cobra.flux_analysis import flux_variability_analysis as fva"
   ]
  },
  {
   "cell_type": "code",
   "execution_count": 15,
   "id": "692e0e2d",
   "metadata": {},
   "outputs": [
    {
     "data": {
      "text/html": [
       "\n",
       "        <table>\n",
       "            <tr>\n",
       "                <td><strong>Name</strong></td>\n",
       "                <td>iRZ476</td>\n",
       "            </tr><tr>\n",
       "                <td><strong>Memory address</strong></td>\n",
       "                <td>22d7bf8c7c0</td>\n",
       "            </tr><tr>\n",
       "                <td><strong>Number of metabolites</strong></td>\n",
       "                <td>632</td>\n",
       "            </tr><tr>\n",
       "                <td><strong>Number of reactions</strong></td>\n",
       "                <td>656</td>\n",
       "            </tr><tr>\n",
       "                <td><strong>Number of genes</strong></td>\n",
       "                <td>476</td>\n",
       "            </tr><tr>\n",
       "                <td><strong>Number of groups</strong></td>\n",
       "                <td>0</td>\n",
       "            </tr><tr>\n",
       "                <td><strong>Objective expression</strong></td>\n",
       "                <td>1.0*biomass_STR - 1.0*biomass_STR_reverse_5425b</td>\n",
       "            </tr><tr>\n",
       "                <td><strong>Compartments</strong></td>\n",
       "                <td>Extracellular, Cytoplasm</td>\n",
       "            </tr>\n",
       "          </table>"
      ],
      "text/plain": [
       "<Model iRZ476 at 0x22d7bf8c7c0>"
      ]
     },
     "execution_count": 15,
     "metadata": {},
     "output_type": "execute_result"
    }
   ],
   "source": [
    "model = read_sbml_model(\"sth.xml\")\n",
    "model"
   ]
  },
  {
   "cell_type": "code",
   "execution_count": 19,
   "id": "0d999c59",
   "metadata": {},
   "outputs": [
    {
     "name": "stdout",
     "output_type": "stream",
     "text": [
      "656\n"
     ]
    }
   ],
   "source": [
    "print(len(model.reactions))\n",
    "print(len(model.metabolites))\n",
    "print(len(model.genes))"
   ]
  },
  {
   "cell_type": "code",
   "execution_count": 29,
   "id": "5d473253",
   "metadata": {},
   "outputs": [
    {
     "name": "stdout",
     "output_type": "stream",
     "text": [
      "diact_c\n",
      "diact_e\n"
     ]
    }
   ],
   "source": [
    "#To find out the Diacetyl metabolite id\n",
    "for i in model.metabolites:\n",
    "    if i.name == \"Diacetyl_\":\n",
    "        print(i.id)"
   ]
  },
  {
   "cell_type": "code",
   "execution_count": 31,
   "id": "521157bd",
   "metadata": {},
   "outputs": [
    {
     "data": {
      "text/html": [
       "\n",
       "        <table>\n",
       "            <tr>\n",
       "                <td><strong>Metabolite identifier</strong></td><td>diact_c</td>\n",
       "            </tr><tr>\n",
       "                <td><strong>Name</strong></td><td>Diacetyl_</td>\n",
       "            </tr><tr>\n",
       "                <td><strong>Memory address</strong></td>\n",
       "                <td>0x22d7bfe2730</td>\n",
       "            </tr><tr>\n",
       "                <td><strong>Formula</strong></td><td>C4H6O2</td>\n",
       "            </tr><tr>\n",
       "                <td><strong>Compartment</strong></td><td>c</td>\n",
       "            </tr><tr>\n",
       "                <td><strong>In 2 reaction(s)</strong></td><td>\n",
       "                    ACLO, DIACTt\n",
       "                    </td>\n",
       "            </tr>\n",
       "        </table>"
      ],
      "text/plain": [
       "<Metabolite diact_c at 0x22d7bfe2730>"
      ]
     },
     "execution_count": 31,
     "metadata": {},
     "output_type": "execute_result"
    }
   ],
   "source": [
    "model.metabolites.get_by_id(\"diact_c\")"
   ]
  },
  {
   "cell_type": "code",
   "execution_count": 32,
   "id": "31891616",
   "metadata": {},
   "outputs": [
    {
     "data": {
      "text/html": [
       "\n",
       "        <table>\n",
       "            <tr>\n",
       "                <td><strong>Metabolite identifier</strong></td><td>diact_e</td>\n",
       "            </tr><tr>\n",
       "                <td><strong>Name</strong></td><td>Diacetyl_</td>\n",
       "            </tr><tr>\n",
       "                <td><strong>Memory address</strong></td>\n",
       "                <td>0x22d7bfe2760</td>\n",
       "            </tr><tr>\n",
       "                <td><strong>Formula</strong></td><td>C4H6O2</td>\n",
       "            </tr><tr>\n",
       "                <td><strong>Compartment</strong></td><td>e</td>\n",
       "            </tr><tr>\n",
       "                <td><strong>In 2 reaction(s)</strong></td><td>\n",
       "                    EX_diact_e, DIACTt\n",
       "                    </td>\n",
       "            </tr>\n",
       "        </table>"
      ],
      "text/plain": [
       "<Metabolite diact_e at 0x22d7bfe2760>"
      ]
     },
     "execution_count": 32,
     "metadata": {},
     "output_type": "execute_result"
    }
   ],
   "source": [
    "model.metabolites.get_by_id(\"diact_e\")"
   ]
  },
  {
   "cell_type": "code",
   "execution_count": 36,
   "id": "019b27d1",
   "metadata": {},
   "outputs": [
    {
     "data": {
      "text/html": [
       "\n",
       "        <table>\n",
       "            <tr>\n",
       "                <td><strong>Reaction identifier</strong></td><td>DIACTt</td>\n",
       "            </tr><tr>\n",
       "                <td><strong>Name</strong></td><td>diacetyl diffusion</td>\n",
       "            </tr><tr>\n",
       "                <td><strong>Memory address</strong></td>\n",
       "                <td>0x22d7c0fe9d0</td>\n",
       "            </tr><tr>\n",
       "                <td><strong>Stoichiometry</strong></td>\n",
       "                <td>\n",
       "                    <p style='text-align:right'>diact_c <=> diact_e</p>\n",
       "                    <p style='text-align:right'>Diacetyl_ <=> Diacetyl_</p>\n",
       "                </td>\n",
       "            </tr><tr>\n",
       "                <td><strong>GPR</strong></td><td></td>\n",
       "            </tr><tr>\n",
       "                <td><strong>Lower bound</strong></td><td>-1000.0</td>\n",
       "            </tr><tr>\n",
       "                <td><strong>Upper bound</strong></td><td>1000.0</td>\n",
       "            </tr>\n",
       "        </table>\n",
       "        "
      ],
      "text/plain": [
       "<Reaction DIACTt at 0x22d7c0fe9d0>"
      ]
     },
     "execution_count": 36,
     "metadata": {},
     "output_type": "execute_result"
    }
   ],
   "source": [
    "DIACTt = model.reactions.get_by_id(\"DIACTt\")\n",
    "EX_diact_e = model.reactions.get_by_id(\"EX_diact_e\")\n"
   ]
  },
  {
   "cell_type": "markdown",
   "id": "ee8a1273",
   "metadata": {},
   "source": [
    "## Chemical defined medium (CDM)\n",
    "### Function objetive: maximization of biomass production."
   ]
  },
  {
   "cell_type": "markdown",
   "id": "ddc0a7cc",
   "metadata": {},
   "source": [
    "##### 1 a) What is the wild-type production of the compound?"
   ]
  },
  {
   "cell_type": "code",
   "execution_count": 38,
   "id": "b127355e",
   "metadata": {},
   "outputs": [
    {
     "data": {
      "text/html": [
       "<h3>Objective</h3><p>1.0 biomass_STR = 1.042253380736437</p><h4>Uptake</h4><table border=\"1\" class=\"dataframe\">\n",
       "  <thead>\n",
       "    <tr style=\"text-align: right;\">\n",
       "      <th>Metabolite</th>\n",
       "      <th>Reaction</th>\n",
       "      <th>Flux</th>\n",
       "      <th>C-Number</th>\n",
       "      <th>C-Flux</th>\n",
       "    </tr>\n",
       "  </thead>\n",
       "  <tbody>\n",
       "    <tr>\n",
       "      <td>ala_L_e</td>\n",
       "      <td>EX_ala_L_e</td>\n",
       "      <td>0.681</td>\n",
       "      <td>3</td>\n",
       "      <td>0.64%</td>\n",
       "    </tr>\n",
       "    <tr>\n",
       "      <td>arg_L_e</td>\n",
       "      <td>EX_arg_L_e</td>\n",
       "      <td>0.0559</td>\n",
       "      <td>6</td>\n",
       "      <td>0.11%</td>\n",
       "    </tr>\n",
       "    <tr>\n",
       "      <td>asn_L_e</td>\n",
       "      <td>EX_asn_L_e</td>\n",
       "      <td>0.1944</td>\n",
       "      <td>4</td>\n",
       "      <td>0.24%</td>\n",
       "    </tr>\n",
       "    <tr>\n",
       "      <td>asp_L_e</td>\n",
       "      <td>EX_asp_L_e</td>\n",
       "      <td>0.216</td>\n",
       "      <td>4</td>\n",
       "      <td>0.27%</td>\n",
       "    </tr>\n",
       "    <tr>\n",
       "      <td>cys_L_e</td>\n",
       "      <td>EX_cys_L_e</td>\n",
       "      <td>0.01477</td>\n",
       "      <td>3</td>\n",
       "      <td>0.01%</td>\n",
       "    </tr>\n",
       "    <tr>\n",
       "      <td>gln_L_e</td>\n",
       "      <td>EX_gln_L_e</td>\n",
       "      <td>0.4165</td>\n",
       "      <td>5</td>\n",
       "      <td>0.65%</td>\n",
       "    </tr>\n",
       "    <tr>\n",
       "      <td>gly_e</td>\n",
       "      <td>EX_gly_e</td>\n",
       "      <td>0.2021</td>\n",
       "      <td>2</td>\n",
       "      <td>0.13%</td>\n",
       "    </tr>\n",
       "    <tr>\n",
       "      <td>gua_e</td>\n",
       "      <td>EX_gua_e</td>\n",
       "      <td>0.1804</td>\n",
       "      <td>5</td>\n",
       "      <td>0.28%</td>\n",
       "    </tr>\n",
       "    <tr>\n",
       "      <td>h2o_e</td>\n",
       "      <td>EX_h2o_e</td>\n",
       "      <td>18.8</td>\n",
       "      <td>0</td>\n",
       "      <td>0.00%</td>\n",
       "    </tr>\n",
       "    <tr>\n",
       "      <td>his_L_e</td>\n",
       "      <td>EX_his_L_e</td>\n",
       "      <td>0.04132</td>\n",
       "      <td>6</td>\n",
       "      <td>0.08%</td>\n",
       "    </tr>\n",
       "    <tr>\n",
       "      <td>ile_L_e</td>\n",
       "      <td>EX_ile_L_e</td>\n",
       "      <td>0.0875</td>\n",
       "      <td>6</td>\n",
       "      <td>0.16%</td>\n",
       "    </tr>\n",
       "    <tr>\n",
       "      <td>lcts_e</td>\n",
       "      <td>EX_lcts_e</td>\n",
       "      <td>25.11</td>\n",
       "      <td>12</td>\n",
       "      <td>94.68%</td>\n",
       "    </tr>\n",
       "    <tr>\n",
       "      <td>leu_L_e</td>\n",
       "      <td>EX_leu_L_e</td>\n",
       "      <td>0.175</td>\n",
       "      <td>6</td>\n",
       "      <td>0.33%</td>\n",
       "    </tr>\n",
       "    <tr>\n",
       "      <td>lys_L_e</td>\n",
       "      <td>EX_lys_L_e</td>\n",
       "      <td>0.2562</td>\n",
       "      <td>6</td>\n",
       "      <td>0.48%</td>\n",
       "    </tr>\n",
       "    <tr>\n",
       "      <td>met_L_e</td>\n",
       "      <td>EX_met_L_e</td>\n",
       "      <td>0.03646</td>\n",
       "      <td>5</td>\n",
       "      <td>0.06%</td>\n",
       "    </tr>\n",
       "    <tr>\n",
       "      <td>nac_e</td>\n",
       "      <td>EX_nac_e</td>\n",
       "      <td>0.001876</td>\n",
       "      <td>6</td>\n",
       "      <td>0.00%</td>\n",
       "    </tr>\n",
       "    <tr>\n",
       "      <td>phe_L_e</td>\n",
       "      <td>EX_phe_L_e</td>\n",
       "      <td>0.07535</td>\n",
       "      <td>9</td>\n",
       "      <td>0.21%</td>\n",
       "    </tr>\n",
       "    <tr>\n",
       "      <td>pi_e</td>\n",
       "      <td>EX_pi_e</td>\n",
       "      <td>0.8857</td>\n",
       "      <td>0</td>\n",
       "      <td>0.00%</td>\n",
       "    </tr>\n",
       "    <tr>\n",
       "      <td>pnto_R_e</td>\n",
       "      <td>EX_pnto_R_e</td>\n",
       "      <td>0.0001876</td>\n",
       "      <td>9</td>\n",
       "      <td>0.00%</td>\n",
       "    </tr>\n",
       "    <tr>\n",
       "      <td>pro_L_e</td>\n",
       "      <td>EX_pro_L_e</td>\n",
       "      <td>0.3111</td>\n",
       "      <td>5</td>\n",
       "      <td>0.49%</td>\n",
       "    </tr>\n",
       "    <tr>\n",
       "      <td>ribflv_e</td>\n",
       "      <td>EX_ribflv_e</td>\n",
       "      <td>1.042E-05</td>\n",
       "      <td>17</td>\n",
       "      <td>0.00%</td>\n",
       "    </tr>\n",
       "    <tr>\n",
       "      <td>ser_L_e</td>\n",
       "      <td>EX_ser_L_e</td>\n",
       "      <td>0.177</td>\n",
       "      <td>3</td>\n",
       "      <td>0.17%</td>\n",
       "    </tr>\n",
       "    <tr>\n",
       "      <td>thm_e</td>\n",
       "      <td>EX_thm_e</td>\n",
       "      <td>1.042E-05</td>\n",
       "      <td>12</td>\n",
       "      <td>0.00%</td>\n",
       "    </tr>\n",
       "    <tr>\n",
       "      <td>trp_L_e</td>\n",
       "      <td>EX_trp_L_e</td>\n",
       "      <td>0.1142</td>\n",
       "      <td>11</td>\n",
       "      <td>0.39%</td>\n",
       "    </tr>\n",
       "    <tr>\n",
       "      <td>tyr_L_e</td>\n",
       "      <td>EX_tyr_L_e</td>\n",
       "      <td>0.07778</td>\n",
       "      <td>9</td>\n",
       "      <td>0.22%</td>\n",
       "    </tr>\n",
       "    <tr>\n",
       "      <td>ura_e</td>\n",
       "      <td>EX_ura_e</td>\n",
       "      <td>0.1337</td>\n",
       "      <td>4</td>\n",
       "      <td>0.17%</td>\n",
       "    </tr>\n",
       "    <tr>\n",
       "      <td>urea_e</td>\n",
       "      <td>EX_urea_e</td>\n",
       "      <td>0.02419</td>\n",
       "      <td>1</td>\n",
       "      <td>0.01%</td>\n",
       "    </tr>\n",
       "    <tr>\n",
       "      <td>val_L_e</td>\n",
       "      <td>EX_val_L_e</td>\n",
       "      <td>0.1264</td>\n",
       "      <td>5</td>\n",
       "      <td>0.20%</td>\n",
       "    </tr>\n",
       "  </tbody>\n",
       "</table><h4>Secretion</h4><table border=\"1\" class=\"dataframe\">\n",
       "  <thead>\n",
       "    <tr style=\"text-align: right;\">\n",
       "      <th>Metabolite</th>\n",
       "      <th>Reaction</th>\n",
       "      <th>Flux</th>\n",
       "      <th>C-Number</th>\n",
       "      <th>C-Flux</th>\n",
       "    </tr>\n",
       "  </thead>\n",
       "  <tbody>\n",
       "    <tr>\n",
       "      <td>ac_e</td>\n",
       "      <td>EX_ac_e</td>\n",
       "      <td>-1.314</td>\n",
       "      <td>2</td>\n",
       "      <td>0.92%</td>\n",
       "    </tr>\n",
       "    <tr>\n",
       "      <td>acald_e</td>\n",
       "      <td>EX_acald_e</td>\n",
       "      <td>-0.1035</td>\n",
       "      <td>2</td>\n",
       "      <td>0.07%</td>\n",
       "    </tr>\n",
       "    <tr>\n",
       "      <td>co2_e</td>\n",
       "      <td>EX_co2_e</td>\n",
       "      <td>-0.4455</td>\n",
       "      <td>1</td>\n",
       "      <td>0.16%</td>\n",
       "    </tr>\n",
       "    <tr>\n",
       "      <td>for_e</td>\n",
       "      <td>EX_for_e</td>\n",
       "      <td>-3.055</td>\n",
       "      <td>1</td>\n",
       "      <td>1.07%</td>\n",
       "    </tr>\n",
       "    <tr>\n",
       "      <td>fum_e</td>\n",
       "      <td>EX_fum_e</td>\n",
       "      <td>-0.08471</td>\n",
       "      <td>4</td>\n",
       "      <td>0.12%</td>\n",
       "    </tr>\n",
       "    <tr>\n",
       "      <td>gal_e</td>\n",
       "      <td>EX_gal_e</td>\n",
       "      <td>-24.04</td>\n",
       "      <td>6</td>\n",
       "      <td>50.55%</td>\n",
       "    </tr>\n",
       "    <tr>\n",
       "      <td>gcald_e</td>\n",
       "      <td>EX_gcald_e</td>\n",
       "      <td>-1.042E-05</td>\n",
       "      <td>2</td>\n",
       "      <td>0.00%</td>\n",
       "    </tr>\n",
       "    <tr>\n",
       "      <td>glc_D_e</td>\n",
       "      <td>EX_glc_D_e</td>\n",
       "      <td>-2</td>\n",
       "      <td>6</td>\n",
       "      <td>4.21%</td>\n",
       "    </tr>\n",
       "    <tr>\n",
       "      <td>glyc_e</td>\n",
       "      <td>EX_glyc_e</td>\n",
       "      <td>-0.02512</td>\n",
       "      <td>3</td>\n",
       "      <td>0.03%</td>\n",
       "    </tr>\n",
       "    <tr>\n",
       "      <td>h_e</td>\n",
       "      <td>EX_h_e</td>\n",
       "      <td>-42.68</td>\n",
       "      <td>0</td>\n",
       "      <td>0.00%</td>\n",
       "    </tr>\n",
       "    <tr>\n",
       "      <td>lac_L_e</td>\n",
       "      <td>EX_lac_L_e</td>\n",
       "      <td>-40.79</td>\n",
       "      <td>3</td>\n",
       "      <td>42.88%</td>\n",
       "    </tr>\n",
       "  </tbody>\n",
       "</table>"
      ],
      "text/plain": [
       "<cobra.summary.model_summary.ModelSummary at 0x22d7bfeee80>"
      ]
     },
     "execution_count": 38,
     "metadata": {},
     "output_type": "execute_result"
    }
   ],
   "source": [
    "model.summary()"
   ]
  },
  {
   "cell_type": "markdown",
   "id": "d6c579f6",
   "metadata": {},
   "source": [
    "#### 1 b) Access the robustness of the presented solution using the Flux Variability Analysis approach."
   ]
  },
  {
   "cell_type": "code",
   "execution_count": null,
   "id": "fa624752",
   "metadata": {},
   "outputs": [],
   "source": []
  },
  {
   "cell_type": "markdown",
   "id": "4a84ab12",
   "metadata": {},
   "source": [
    "#### 1 c) What are the maximum compound production capabilities, guaranteeing a minimum growth rate of 20% of the wild type?"
   ]
  },
  {
   "cell_type": "code",
   "execution_count": null,
   "id": "c42e931c",
   "metadata": {},
   "outputs": [],
   "source": []
  },
  {
   "cell_type": "markdown",
   "id": "8be3c450",
   "metadata": {},
   "source": [
    "#### 1 d) Evaluate if single gene deletions enhance the production of the compound. Rank the mutants obtained according to the compound production capacity and growth performance."
   ]
  },
  {
   "cell_type": "code",
   "execution_count": null,
   "id": "f16e96f6",
   "metadata": {},
   "outputs": [],
   "source": []
  },
  {
   "cell_type": "markdown",
   "id": "a007c27c",
   "metadata": {},
   "source": [
    "## Milk medium (MM)\n",
    "### Function objetive: minimization of casein consumption while constraining the growth rate to 0.64 h-1"
   ]
  },
  {
   "cell_type": "markdown",
   "id": "7aaa65d8",
   "metadata": {},
   "source": [
    "#### 1 a) What is the wild-type production of the compound?"
   ]
  },
  {
   "cell_type": "code",
   "execution_count": null,
   "id": "9212f2e8",
   "metadata": {},
   "outputs": [],
   "source": []
  },
  {
   "cell_type": "markdown",
   "id": "71f119b1",
   "metadata": {},
   "source": [
    "#### 1 b) Access the robustness of the presented solution using the Flux Variability Analysis approach."
   ]
  },
  {
   "cell_type": "code",
   "execution_count": null,
   "id": "b73215b7",
   "metadata": {},
   "outputs": [],
   "source": []
  },
  {
   "cell_type": "markdown",
   "id": "0c5685e2",
   "metadata": {},
   "source": [
    "#### 1 c) What are the maximum compound production capabilities, guaranteeing a minimum growth rate of 20% of the wild type?"
   ]
  },
  {
   "cell_type": "code",
   "execution_count": null,
   "id": "ebdedb3d",
   "metadata": {},
   "outputs": [],
   "source": []
  },
  {
   "cell_type": "markdown",
   "id": "6d955d7a",
   "metadata": {},
   "source": [
    "#### 1 d) Evaluate if single gene deletions enhance the production of the compound. Rank the mutants obtained according to the compound production capacity and growth performance."
   ]
  },
  {
   "cell_type": "code",
   "execution_count": null,
   "id": "f8a35114",
   "metadata": {},
   "outputs": [],
   "source": []
  }
 ],
 "metadata": {
  "kernelspec": {
   "display_name": "Python 3 (ipykernel)",
   "language": "python",
   "name": "python3"
  },
  "language_info": {
   "codemirror_mode": {
    "name": "ipython",
    "version": 3
   },
   "file_extension": ".py",
   "mimetype": "text/x-python",
   "name": "python",
   "nbconvert_exporter": "python",
   "pygments_lexer": "ipython3",
   "version": "3.9.12"
  }
 },
 "nbformat": 4,
 "nbformat_minor": 5
}
