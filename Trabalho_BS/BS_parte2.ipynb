{
 "cells": [
  {
   "cell_type": "markdown",
   "metadata": {
    "collapsed": true,
    "pycharm": {
     "name": "#%% md\n"
    }
   },
   "source": [
    "Trabalho de Biologia de Sistemas\n",
    "\n",
    "Parte 2\n",
    "\n",
    "Drug targeting with OptFlux\n",
    "\n",
    "**Exercicio 1**\n",
    "\n",
    "Consider the genome-scale metabolic model of a pathogenic organisms in the OptFlux repository or in the BiGG database (http://systemsbiology.ucsd.edu/InSilicoOrganisms/OtherOrganisms). You can download the models in SBML, JSON format or import directly from the repository if available. Look for the associated publication and download it. Answer the following questions\n",
    "\n",
    "a) Study the organism and discuss the diseases it can cause and known drugs and virulence factors.\n",
    "\n",
    "\n",
    "Mycobacterium tuberculosis  is a species of pathogenic bacteria in the family Mycobacteriaceae and the causative agent of tuberculosis.\n",
    "It was first discovered in 1882 by Robert Koch.\n",
    "The physiology of M. tuberculosis is highly aerobic and requires high levels of oxygen.\n",
    "Primarily a pathogen of the mammalian respiratory system, it infects the lungs.\n",
    "The classic symptoms of active TB are a chronic cough with blood-containing mucus, fever, night sweats, and weight loss.\n",
    "Mycobacterium tuberculosis latently infects approximately one-third of humanity and is comparable only to human immunodeficiency virus (HIV) as a leading infectious cause of mortality worldwide.\n",
    "Obstacles for controlling TB infection include lengthy treatment regimens of 6 to 9 months, drug resistance, lack of a highly efficacious vaccine, and incomplete understanding of the factors that control infectivity and disease progression.\n",
    "Although only 10% of individuals infected with M. tuberculosis develop active disease, the immune responses associated with TB susceptibility or resistance are not known.\n",
    "In addition, it is not known why some individuals have disseminated TB that spreads to the meninges and central nervous system, while most people have localized disease in the lungs.\n",
    "\n",
    "b) Compute the specific growth rate under adequate conditions for your\n",
    "organism? What are the main products excreted under each of those\n",
    "circumstances?"
   ]
  },
  {
   "cell_type": "code",
   "execution_count": 1,
   "metadata": {
    "pycharm": {
     "name": "#%%\n"
    }
   },
   "outputs": [
    {
     "name": "stdout",
     "output_type": "stream",
     "text": [
      "Objective\n",
      "=========\n",
      "1.0 BIOMASS__2 = 0.0581738729896988\n",
      "\n",
      "Uptake\n",
      "------\n",
      "Metabolite     Reaction      Flux  C-Number  C-Flux\n",
      "  asn__L_e  EX_asn__L_e         1         4  26.67%\n",
      "     cit_e     EX_cit_e         1         6  40.00%\n",
      "    etoh_e    EX_etoh_e         1         2  13.33%\n",
      "     fe3_e     EX_fe3_e 0.0003258         0   0.00%\n",
      "    glyc_e    EX_glyc_e         1         3  20.00%\n",
      "       h_e       EX_h_e     4.583         0   0.00%\n",
      "      o2_e      EX_o2_e     4.979         0   0.00%\n",
      "      pi_e      EX_pi_e   0.07742         0   0.00%\n",
      "     so4_e     EX_so4_e  0.007747         0   0.00%\n",
      "\n",
      "Secretion\n",
      "---------\n",
      "Metabolite    Reaction       Flux  C-Number  C-Flux\n",
      "    4hba_e   EX_4hba_e -4.654E-05         7   0.00%\n",
      "   h2co3_e  EX_h2co3_e     -4.435         1  36.13%\n",
      "     h2o_e    EX_h2o_e     -1.834         0   0.00%\n",
      "     nh4_e    EX_nh4_e       -1.6         0   0.00%\n",
      "    succ_e   EX_succ_e      -1.96         4  63.87%\n",
      "\n",
      "objective: 0.05817387298969868\n",
      "Status: OPTIMAL\n",
      "Objective\n",
      "=========\n",
      "1.0 biomass = 0.03941421871223612\n",
      "\n",
      "Uptake\n",
      "------\n",
      "Metabolite    Reaction      Flux  C-Number  C-Flux\n",
      "  ala__L_e    EX_ala_L   0.02083         3   0.15%\n",
      "  asn__L_e    EX_asn_L     1.603         4  15.81%\n",
      "  asp__L_e    EX_asp_L         5         4  49.31%\n",
      "     fe3_e      EX_fe3 0.0002207         0   0.00%\n",
      "  gln__L_e    EX_gln_L   0.08165         5   1.01%\n",
      "  glu__L_e    EX_glu_L         1         5  12.33%\n",
      "       h_e        EX_h     12.52         0   0.00%\n",
      "     no3_e      EX_no3       1.5         0   0.00%\n",
      "  nodcoa_e   EX_nodcoa  0.009931        40   0.98%\n",
      "      o2_e       EX_o2       0.5         0   0.00%\n",
      " octscoa_e  EX_octscoa    0.1689        49  20.41%\n",
      "      pi_e       EX_pi   0.05014         0   0.00%\n",
      "     so4_e      EX_so4  0.004476         0   0.00%\n",
      "\n",
      "Secretion\n",
      "---------\n",
      "Metabolite   Reaction       Flux  C-Number  C-Flux\n",
      "    4hba_e    EX_4hba -3.153E-05         7   0.00%\n",
      "      ac_e      EX_ac  -0.004737         2   0.02%\n",
      "  ala__B_e   EX_ala_B     -4.115         3  31.89%\n",
      "     co2_e     EX_co2     -7.262         1  18.76%\n",
      "     coa_e     EX_coa    -0.1781        21   9.66%\n",
      "      h2_e      EX_h2  -0.004182         0   0.00%\n",
      "     nh4_e     EX_nh4      -6.51         0   0.00%\n",
      "  ocdcea_e  EX_ocdcea      -0.14        18   6.51%\n",
      "    succ_e    EX_succ     -3.209         4  33.16%\n",
      "\n",
      "objective: 0.03941421871223617\n",
      "Status: OPTIMAL\n"
     ]
    }
   ],
   "source": [
    "from cobra.io import read_sbml_model\n",
    "model = read_sbml_model('iEK1008.xml')\n",
    "print(model.summary())\n",
    "from mewpy.simulation import get_simulator\n",
    "simul1 = get_simulator(model)\n",
    "result1 = simul1.simulate(method='FBA')\n",
    "print(result1)\n",
    "\n",
    "\n",
    "import cobra\n",
    "model = cobra.io.load_json_model('iEK1011_inVivo_media.json')\n",
    "print(model.summary())\n",
    "from mewpy.simulation import get_simulator\n",
    "simul = get_simulator(model)\n",
    "result2 = simul.simulate(method='FBA')\n",
    "print(result2)\n"
   ]
  },
  {
   "cell_type": "markdown",
   "metadata": {
    "pycharm": {
     "name": "#%% md\n"
    }
   },
   "source": [
    "c) List all genes/reactions that can be potential drug targets."
   ]
  },
  {
   "cell_type": "code",
   "execution_count": 3,
   "metadata": {
    "pycharm": {
     "name": "#%%\n"
    }
   },
   "outputs": [
    {
     "name": "stdout",
     "output_type": "stream",
     "text": [
      "------------------------------------------\n",
      "Essential Reactions\n",
      "------------------------------------------\n",
      "['AACPS10', 'AACPS11', 'AACPS3', 'ACCC', 'ACChex', 'ACGAMT', 'ACGK', 'ACHBS', 'ACLS', 'ACOTA', 'ADCL', 'ADCS', 'ADSL1r', 'ADSL2r', 'ADSS', 'AFTA', 'AGPAT160', 'AGPAT160190', 'AGPAT190', 'AGPR', 'AHC', 'AHMMPS', 'AICART', 'AIRCr', 'ALAALAr', 'ALAR', 'ANPRT', 'ANS', 'APRAUR', 'ARGSL', 'ARGSS', 'ASAD', 'ASPK', 'ATPPRT', 'CBPS', 'CDPMEK', 'CDPPT160190', 'CHORM', 'CHORS', 'CHRPL', 'CIGAMS', 'CLPNS160190', 'CPPPGO', 'DAPDC', 'DAPE', 'DASYN160', 'DASYN160190', 'DASYN190190', 'DB4PS', 'DCPDPP', 'DCPE', 'DCPT', 'DDPA', 'DHAD1', 'DHAD2', 'DHDPRy', 'DHDPS', 'DHFS', 'DHNAOT', 'DHQD', 'DHQS', 'DMATT', 'DNMPPA', 'DNTPPA', 'DTMPK', 'DXPRIi', 'DXPS', 'ENO', 'EX_fe3', 'EX_nh4', 'EX_no3', 'EX_o2', 'EX_pi', 'EX_so4', 'EX_succ', 'FACOAL160', 'FACOALPHDCA', 'FAMPL1', 'FAMPL2', 'FAMPL3', 'FAMPL4', 'FAMPL5', 'FAS200', 'FASPHDCA', 'FASm1601', 'FASm180', 'FASm1801', 'FASm2001', 'FASm2002', 'FASm220', 'FASm2201', 'FASm2202', 'FASm2401', 'FASm2402', 'FASm2601', 'FASm2602', 'FASm2801', 'FASm2802', 'FASm300', 'FASm320', 'FASm340', 'FBA', 'FBP', 'FE3Ri', 'FMNAT', 'G16MTM1', 'G16MTM10', 'G16MTM4', 'G16MTM5', 'G16MTM6', 'G16MTM7', 'G16MTM8', 'G16MTM9', 'G1PACT', 'G1PTT', 'G1SATi', 'G3PAT190', 'G5SADs', 'GALFT', 'GALUi', 'GAPD', 'GARFT', 'GF6PTAr', 'GK1', 'GLUPRT', 'GLUR', 'GMPS2', 'GMT1', 'GRTT', 'GTPCI', 'HCO3E', 'HISTD', 'HISTP', 'HMBS', 'HSDy', 'HSK', 'HSTPT', 'ICHORSi', 'IG3PS', 'IGAMD', 'IGPDH', 'IGPS', 'ILETA', 'IMPC', 'IMPD', 'INSH', 'IPMD', 'IPPMIa', 'IPPMIb', 'IPPS', 'KARA1i', 'KARA2i', 'LEUTA', 'MAN6PI', 'MANAT1', 'MANAT3', 'MCOATA', 'MECDPS', 'MEPCT', 'METAT', 'METS', 'MN6PP', 'MSHS', 'MTHFC', 'MTHFD', 'MTHFR2', 'MYC1CYC1', 'MYC1CYC2', 'MYC1CYC3', 'MYC1CYC4', 'MYC1CYC5', 'MYC1M1', 'MYC1M2', 'MYC2CYC1', 'MYC2CYC2', 'MYC2CYC3', 'MYCON1', 'MYCON2', 'MYCON3', 'MYCON4', 'MYCON5', 'MYCSacp50', 'MYCSacp56', 'MYCSacp58', 'NADK', 'NADS2', 'NDPK2', 'NDPK4', 'NDPK5', 'NDPK7', 'NDPK8', 'NH4t', 'NNAT', 'NNDPR', 'NPHS', 'O16RHAT', 'O2t', 'OCBT', 'OMCDC', 'ORNTAC', 'PAPPT1', 'PAPPT2', 'PAPPT3', 'PATS', 'PGAMT', 'PGCD', 'PGI', 'PGK', 'PGM', 'PGPP160', 'PGPP160190', 'PGPP190', 'PGPPT3', 'PGSA160', 'PGSA160190', 'PGSA190', 'PHDCATA', 'PHETA1', 'PIabc', 'PMANM', 'PMDPHT', 'PMPK', 'PPBNGS', 'PPCOAC', 'PPND', 'PPNDH', 'PPPGO', 'PPTGS_TB1', 'PPTGS_TB2', 'PRAGSr', 'PRAIS', 'PRAIi', 'PRAMPC', 'PRASCS', 'PRATPP', 'PRFGS', 'PRMICIi', 'PRPPS', 'PSCVT', 'PSD160', 'PSERT', 'PSP_L', 'PSSA160', 'QULNS', 'RBFK', 'RBFSa', 'RBFSb', 'RNDR1', 'RNDR2', 'RNDR3', 'RPI', 'SADT', 'SDPDS', 'SDPTA', 'SHCHD2', 'SHCHF', 'SHK3Dr', 'SHKK', 'SUCBZL', 'SUCBZS', 'SUCCt2r', 'SULabc', 'TATS', 'TDMS1', 'TDMS2', 'TDMS4', 'TDPDRE', 'TDPDRR', 'TDPGDH', 'THDPS', 'THRS', 'THZPSN', 'TMHAS1', 'TMHAS2', 'TMHAS3', 'TMHAS4', 'TMPKr', 'TMPPP', 'TPI', 'TRDR', 'TRE6PS', 'TRESULT', 'TYRTA', 'UAAGDS', 'UAAGLS1', 'UAAGLS2', 'UAGCVT', 'UAGDP', 'UAGPT1', 'UAGPT2', 'UAGPT3', 'UAMAGS', 'UAMAS', 'UAMRH', 'UAPGR', 'UDCPDP', 'UDPG4E', 'UDPGALM', 'UGAGDS', 'UGGPT3', 'UGLDDS1', 'UGLDDS2', 'UGMAGS', 'UGMAS', 'UGMDDS', 'UGMDDS2', 'UMPK', 'UPP3MT', 'UPP3S', 'UPPDC1', 'FRTT', 'ISCS', 'biomass', 'INO1', 'NAGINSP', 'NAGINS', 'KGD2', 'EX_4hba', '4HBAt', 'GCALDD', 'NO3t2', 'HEMEOS', 'HEMEAS_1', 'GSEALD', 'PKS2', 'MAS3', 'SIRA2', 'GLGB', 'SHCHCS3', 'SEPHCHCS', 'G3PD1ir', 'G3PT', 'EMB', 'OPP', 'HEXTT', 'PPTTm', 'GGTT', 'MYCOPP', 'MYCOE', 'PPM1']\n",
      "------------------------------------------\n",
      "Essential Genes\n",
      "------------------------------------------\n",
      "['Rv1295', 'Rv3280', 'Rv3281', 'Rv3441c', 'Rv1302', 'Rv1654', 'Rv1653', 'Rv1655', 'Rv0812', 'Rv1005c', 'Rv0013', 'Rv1285', 'Rv1286', 'Rv0777', 'Rv0357c', 'Rv3795', 'Rv3794', 'Rv3792', 'Rv1652', 'Rv3248c', 'Rv0423c', 'Rv0957', 'Rv3276c', 'Rv3275c', 'Rv2981c', 'Rv3423c', 'Rv2192c', 'Rv1609', 'Rv1659', 'Rv1658', 'Rv3708c', 'Rv3709c', 'Rv1595', 'Rv2121c', 'Rv1383', 'Rv1384', 'Rv1011', 'Rv2612c', 'Rv2540c', 'Rv2949c', 'Rv2130c', 'Rv2388c', 'Rv1699', 'Rv2194', 'Rv2196', 'Rv2195', 'Rv3043c', 'Rv1451', 'Rv2200c', 'Rv2193', 'Rv1623c', 'Rv1622c', 'Rv1712', 'Rv1293', 'Rv2726c', 'Rv2881c', 'Rv2136c', 'Rv3807c', 'Rv3791', 'Rv3790', 'Rv3806c', 'Rv2178c', 'Rv1389', 'Rv0189c', 'Rv2773c', 'Rv2753c', 'Rv2447c', 'Rv0534c', 'Rv3607c', 'Rv2537c', 'Rv2538c', 'Rv3398c', 'Rv3247c', 'Rv2870c', 'Rv1023', 'Rv3801c', 'Rv1484', 'Rv2524c', 'Rv2947c', 'Rv1350', 'Rv2940c', 'Rv0363c', 'Rv1485', 'Rv1348', 'Rv1349', 'Rv2786c', 'Rv2443', 'Rv2610c', 'Rv1500', 'Rv2188c', 'Rv1159', 'Rv1018c', 'Rv0334', 'Rv0524', 'Rv3808c', 'Rv0993', 'Rv1436', 'Rv0956', 'Rv3436c', 'Rv1326c', 'Rv1602', 'Rv0808', 'Rv1338', 'Rv3396c', 'Rv2051c', 'Rv1086', 'Rv3609c', 'Rv1940', 'Rv0511', 'Rv1599', 'Rv0510', 'Rv0422c', 'Rv3606c', 'Rv1294', 'Rv1296', 'Rv0486', 'Rv3215', 'Rv1605', 'Rv1170', 'Rv1601', 'Rv1611', 'Rv2210c', 'Rv1843c', 'Rv3410c', 'Rv3411c', 'Rv3393', 'Rv2995c', 'Rv2987c', 'Rv2988c', 'Rv3710', 'Rv3001c', 'Rv3264c', 'Rv3255c', 'Rv2611c', 'Rv2243', 'Rv3581c', 'Rv3582c', 'Rv1392', 'Rv2124c', 'Rv1133c', 'Rv0046c', 'Rv1692', 'Rv0819', 'Rv3356c', 'Rv0470c', 'Rv0644c', 'Rv3800c', 'Rv2245', 'Rv2246', 'Rv1695', 'Rv2438c', 'Rv2445c', 'Rv2920c', 'Rv2421c', 'Rv1596', 'Rv0548c', 'Rv2391', 'Rv1525', 'Rv3265c', 'Rv1656', 'Rv0884c', 'Rv0555', 'Rv0500', 'Rv2156c', 'Rv2392', 'Rv2996c', 'Rv0728c', 'Rv0946c', 'Rv1437', 'Rv2746c', 'Rv1822', 'Rv0512', 'Rv3285', 'Rv3754', 'Rv3838c', 'Rv2677c', 'Rv2163c', 'Rv3627c', 'Rv0772', 'Rv0809', 'Rv1603', 'Rv1606', 'Rv0780', 'Rv2122c', 'Rv0788', 'Rv0803', 'Rv1017c', 'Rv3227', 'Rv0437c', 'Rv0505c', 'Rv3042c', 'Rv0436c', 'Rv1594', 'Rv1412', 'Rv1416', 'Rv3048c', 'Rv3051c', 'Rv2465c', 'Rv1202', 'Rv2847c', 'Rv2552c', 'Rv2539c', 'Rv0542c', 'Rv0553', 'Rv2397c', 'Rv1739c', 'Rv2398c', 'Rv2400c', 'Rv2399c', 'Rv3465', 'Rv3464', 'Rv1201c', 'Rv0417', 'Rv2977c', 'Rv0414c', 'Rv1438', 'Rv3913', 'Rv3490', 'Rv1612', 'Rv1613', 'Rv2158c', 'Rv1315', 'Rv2153c', 'Rv2155c', 'Rv2152c', 'Rv3818', 'Rv0482', 'Rv3809c', 'Rv2157c', 'Rv2883c', 'Rv2678c', 'Rv3793', 'Rv3799c', 'Rv3782', 'Rv2673', 'Rv3805c', 'Rv3029c', 'Rv3028c', 'Rv1456c', 'Rv3825c', 'Rv2895c', 'Rv3031', 'Rv0018c', 'Rv0562', 'Rv3266c', 'Rv3802c']\n"
     ]
    }
   ],
   "source": [
    "import cobra\n",
    "model = cobra.io.load_json_model('iEK1011_inVivo_media.json')\n",
    "#print(model.summary())\n",
    "from mewpy.simulation import get_simulator\n",
    "simul = get_simulator(model)\n",
    "print('------------------------------------------')\n",
    "print('Essential Reactions')\n",
    "print('------------------------------------------')\n",
    "print(simul.essential_reactions)\n",
    "print('------------------------------------------')\n",
    "print('Essential Genes')\n",
    "print('------------------------------------------')\n",
    "print(simul.essential_genes)\n"
   ]
  },
  {
   "cell_type": "markdown",
   "metadata": {
    "pycharm": {
     "name": "#%% md\n"
    }
   },
   "source": [
    "\n",
    "d) Discuss two of these genes/reactions and the corresponding drug.\n",
    "Select one present in the host and one absent. Include in the\n",
    "discussion facts regarding potential side effects of the drug on other\n",
    "reactions.\n",
    "\n",
    "Ethambutol - Rv3795/EMB operon\n",
    "Biosynthesis inibition of Arabinogalactan, which is a component of the bacterial cell wall, and is a 1st line drug for TB treatment.\n",
    "When ethambutol is combined with pyrazinamid, a 2005 study showed evidence of hepatic toxicity in Multi Drug Resistant TB pacients.\n",
    "\n",
    "Zidovudine diphosphate - Rv2445c/nucleoside-diphosphate kinase\n",
    "\n",
    "Inhibits synthesys of nucleoside triphosphates other than ATP. Also present in Homo Sapiens and used in treatment of pacients with HIV.\n",
    "Side include nausea, vomiting, constipation, insomnia, loss of apetite, joint pain and changes in the shape or location of body fat.\n"
   ]
  }
 ],
 "metadata": {
  "kernelspec": {
   "display_name": "Python 3 (ipykernel)",
   "language": "python",
   "name": "python3"
  },
  "language_info": {
   "codemirror_mode": {
    "name": "ipython",
    "version": 3
   },
   "file_extension": ".py",
   "mimetype": "text/x-python",
   "name": "python",
   "nbconvert_exporter": "python",
   "pygments_lexer": "ipython3",
   "version": "3.9.12"
  }
 },
 "nbformat": 4,
 "nbformat_minor": 1
}
